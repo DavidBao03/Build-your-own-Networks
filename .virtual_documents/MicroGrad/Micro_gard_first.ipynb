import math
import numpy as np
import matplotlib.pyplot as plt
%matplotlib inline



def f(x):
    return 3*x**2 - 4*x + 5


f(3)


xs = np.arange(-5, 5, 0.25)
ys = f(xs)
plt.plot(xs, ys)


h = 0.0000001
x = 2/3
(f(x + h) - f(x)) / h


a = 2.0
b = -3.0
c = 10.0
d = a*b + c
print(d)


h = 0.0001

# inputs
a = 2.0
b = -3.0
c = 10.0

d1 = a*b + c
c += h
d2 = a*b + c

print('d1', d1)
print('d2', d2)
print('slope', (d2 - d1)/h)


class Value():
    def __init__(self, data, _children=(), _op=''):
        self.data = data
        self.grad = 0
        self._children = set(_children)
        self._op = _op
        
    def __repr__(self):
        return f"Value(data={self.data})"

a = Value(2.0)
a


from graphviz import Digraph

def trace(root):
  # builds a set of all nodes and edges in a graph
  nodes, edges = set(), set()
  def build(v):
    if v not in nodes:
      nodes.add(v)
      for child in v._prev:
        edges.add((child, v))
        build(child)
  build(root)
  return nodes, edges

def draw_dot(root):
  dot = Digraph(format='svg', graph_attr={'rankdir': 'LR'}) # LR = left to right
  
  nodes, edges = trace(root)
  for n in nodes:
    uid = str(id(n))
    # for any value in the graph, create a rectangular ('record') node for it
    dot.node(name = uid, label = "{ %s | data %.4f | grad %.4f }" % (n.label, n.data, n.grad), shape='record')
    if n._op:
      # if this value is a result of some operation, create an op node for it
      dot.node(name = uid + n._op, label = n._op)
      # and connect this node to it
      dot.edge(uid + n._op, uid)

  for n1, n2 in edges:
    # connect n1 to the op node of n2
    dot.edge(str(id(n1)), str(id(n2)) + n2._op)

  return dot



